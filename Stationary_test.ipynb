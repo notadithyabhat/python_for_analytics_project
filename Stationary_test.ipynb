{
  "nbformat": 4,
  "nbformat_minor": 0,
  "metadata": {
    "colab": {
      "provenance": []
    },
    "kernelspec": {
      "name": "python3",
      "display_name": "Python 3"
    },
    "language_info": {
      "name": "python"
    }
  },
  "cells": [
    {
      "cell_type": "code",
      "execution_count": 1,
      "metadata": {
        "colab": {
          "base_uri": "https://localhost:8080/"
        },
        "id": "PMh4mJOzriBi",
        "outputId": "bd64374d-0dd4-4268-dc9a-5f800be1f5f8"
      },
      "outputs": [
        {
          "output_type": "stream",
          "name": "stdout",
          "text": [
            "Requirement already satisfied: statsmodels in /usr/local/lib/python3.10/dist-packages (0.14.2)\n",
            "Requirement already satisfied: numpy>=1.22.3 in /usr/local/lib/python3.10/dist-packages (from statsmodels) (1.25.2)\n",
            "Requirement already satisfied: scipy!=1.9.2,>=1.8 in /usr/local/lib/python3.10/dist-packages (from statsmodels) (1.11.4)\n",
            "Requirement already satisfied: pandas!=2.1.0,>=1.4 in /usr/local/lib/python3.10/dist-packages (from statsmodels) (2.0.3)\n",
            "Requirement already satisfied: patsy>=0.5.6 in /usr/local/lib/python3.10/dist-packages (from statsmodels) (0.5.6)\n",
            "Requirement already satisfied: packaging>=21.3 in /usr/local/lib/python3.10/dist-packages (from statsmodels) (24.1)\n",
            "Requirement already satisfied: python-dateutil>=2.8.2 in /usr/local/lib/python3.10/dist-packages (from pandas!=2.1.0,>=1.4->statsmodels) (2.8.2)\n",
            "Requirement already satisfied: pytz>=2020.1 in /usr/local/lib/python3.10/dist-packages (from pandas!=2.1.0,>=1.4->statsmodels) (2023.4)\n",
            "Requirement already satisfied: tzdata>=2022.1 in /usr/local/lib/python3.10/dist-packages (from pandas!=2.1.0,>=1.4->statsmodels) (2024.1)\n",
            "Requirement already satisfied: six in /usr/local/lib/python3.10/dist-packages (from patsy>=0.5.6->statsmodels) (1.16.0)\n"
          ]
        }
      ],
      "source": [
        "!pip install statsmodels"
      ]
    },
    {
      "cell_type": "code",
      "source": [
        "import pandas as pd\n",
        "import numpy as np\n",
        "from statsmodels.tsa.stattools import adfuller\n",
        "\n",
        "# Load the data (assuming it's in a CSV file)\n",
        "df = pd.read_csv('data3.csv')\n",
        "\n",
        "# Select the columns you want to test for stationarity\n",
        "columns_to_test = ['revenue expenditure', 'capital expenditure', 'total expenditure', 'agriculture expenditure', 'rural development expenditure', 'energy expenditure', 'industry and minerals expenditure', 'transport expenditure', 'internal debt', 'govt debt', 'FDI', 'GDP']\n",
        "\n",
        "# Clean the data by removing rows with missing or infinite values\n",
        "df_clean = df.replace([np.inf, -np.inf], np.nan).dropna()\n",
        "\n",
        "# Perform the ADF test for each column\n",
        "for col in columns_to_test:\n",
        "    series = df_clean[col]\n",
        "    result = adfuller(series)\n",
        "    print(f\"ADF Test for {col}:\")\n",
        "    print(f\"Test Statistic: {result[0]}\")\n",
        "    print(f\"p-value: {result[1]}\")\n",
        "    if result[1] > 0.05:\n",
        "        print(f\"{col} is likely non-stationary.\")\n",
        "    else:\n",
        "        print(f\"{col} is likely stationary.\")\n",
        "    print()"
      ],
      "metadata": {
        "colab": {
          "base_uri": "https://localhost:8080/"
        },
        "id": "cj1CmJjWr_bH",
        "outputId": "afb8ae2e-85b7-416b-a3fd-f1b0815840ea"
      },
      "execution_count": 2,
      "outputs": [
        {
          "output_type": "stream",
          "name": "stdout",
          "text": [
            "ADF Test for revenue expenditure:\n",
            "Test Statistic: -0.5104233812721648\n",
            "p-value: 0.889966342977718\n",
            "revenue expenditure is likely non-stationary.\n",
            "\n",
            "ADF Test for capital expenditure:\n",
            "Test Statistic: 0.9120050913817257\n",
            "p-value: 0.9932450129703256\n",
            "capital expenditure is likely non-stationary.\n",
            "\n",
            "ADF Test for total expenditure:\n",
            "Test Statistic: 1.3598638385869233\n",
            "p-value: 0.9969239590899521\n",
            "total expenditure is likely non-stationary.\n",
            "\n",
            "ADF Test for agriculture expenditure:\n",
            "Test Statistic: -1.9243539345755998\n",
            "p-value: 0.3206923970743194\n",
            "agriculture expenditure is likely non-stationary.\n",
            "\n",
            "ADF Test for rural development expenditure:\n",
            "Test Statistic: -2.036524491717998\n",
            "p-value: 0.27079147300860185\n",
            "rural development expenditure is likely non-stationary.\n",
            "\n",
            "ADF Test for energy expenditure:\n",
            "Test Statistic: 0.8365809726100683\n",
            "p-value: 0.9922042846378588\n",
            "energy expenditure is likely non-stationary.\n",
            "\n",
            "ADF Test for industry and minerals expenditure:\n",
            "Test Statistic: -3.6381605569143267\n",
            "p-value: 0.005072017797302798\n",
            "industry and minerals expenditure is likely stationary.\n",
            "\n",
            "ADF Test for transport expenditure:\n",
            "Test Statistic: 1.2881676329414133\n",
            "p-value: 0.996541857016857\n",
            "transport expenditure is likely non-stationary.\n",
            "\n",
            "ADF Test for internal debt:\n",
            "Test Statistic: 3.665952638065867\n",
            "p-value: 1.0\n",
            "internal debt is likely non-stationary.\n",
            "\n",
            "ADF Test for govt debt:\n",
            "Test Statistic: -1.5331611283478899\n",
            "p-value: 0.5170479104217043\n",
            "govt debt is likely non-stationary.\n",
            "\n",
            "ADF Test for FDI:\n",
            "Test Statistic: 9.165331817105583\n",
            "p-value: 1.0\n",
            "FDI is likely non-stationary.\n",
            "\n",
            "ADF Test for GDP:\n",
            "Test Statistic: 2.5881680391778032\n",
            "p-value: 0.9990728728063595\n",
            "GDP is likely non-stationary.\n",
            "\n"
          ]
        }
      ]
    }
  ]
}